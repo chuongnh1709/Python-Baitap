{
 "cells": [
  {
   "cell_type": "code",
   "execution_count": 37,
   "metadata": {},
   "outputs": [
    {
     "name": "stdout",
     "output_type": "stream",
     "text": [
      "9 [2, 4, 5, 7, 4, 8, 2, 2, 6]\n"
     ]
    }
   ],
   "source": [
    "import random\n",
    "random_list = []\n",
    "for i in range(0,9):\n",
    "    if i not in random_list:\n",
    "        random_list.append(random.randrange(0,9))\n",
    "print(len(random_list), random_list)\n",
    "# result = [i for i in ]\n"
   ]
  }
 ],
 "metadata": {
  "kernelspec": {
   "display_name": "Python 3",
   "language": "python",
   "name": "python3"
  },
  "language_info": {
   "codemirror_mode": {
    "name": "ipython",
    "version": 3
   },
   "file_extension": ".py",
   "mimetype": "text/x-python",
   "name": "python",
   "nbconvert_exporter": "python",
   "pygments_lexer": "ipython3",
   "version": "3.5.2"
  }
 },
 "nbformat": 4,
 "nbformat_minor": 2
}
